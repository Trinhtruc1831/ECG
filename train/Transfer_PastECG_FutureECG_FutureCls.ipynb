{
 "cells": [
  {
   "cell_type": "code",
   "execution_count": 1,
   "metadata": {},
   "outputs": [],
   "source": [
    "import numpy as np\n",
    "import pandas as pd\n",
    "from matplotlib import pyplot as plt\n",
    "import seaborn as sns\n",
    "import tensorflow as tf\n",
    "from tensorflow.keras.models import Sequential\n",
    "from tensorflow.keras.layers import LSTM, Dense\n",
    "import os"
   ]
  },
  {
   "cell_type": "markdown",
   "metadata": {},
   "source": [
    "# Configuration"
   ]
  },
  {
   "cell_type": "code",
   "execution_count": 2,
   "metadata": {},
   "outputs": [],
   "source": [
    "data_path = '../data/MIT-BIH/'\n",
    "minute_input = 10\n",
    "minute_output = 10\n",
    "window_input= 40*minute_input\n",
    "window_out= 40*minute_input\n",
    "train_size = 0.8\n",
    "test_size = 1 - train_size\n",
    "data_set = {\n",
    "  0: \"test\",\n",
    "  1: \"train\"\n",
    "}\n",
    "model_name_reg_phase = \"LSTM\"\n",
    "model_name_cls_phase = \"LSTM\"\n",
    "# length_ecg là độ dài 2 khoảng RR được fixed lúc tiền xử lý dữ liệu \n",
    "# (độ dài một dòng trong file excel, trừ cột cuối là nhãn lớp bệnh tim)\n",
    "length_ecg = 187 \n",
    "\n",
    "'''\n",
    "Độ dài của input/output càng dài thì số lượng file không đáp ứng đủ để tạo một mẫu hợp lệ \n",
    "cho mô hình càng nhiều. Để đám bảo tính thống nhất nên sẽ dùng độ dài dài nhất của phần \n",
    "input/output trong quá trình thực nghiệm để là chuẩn từ đó loại các file bị thiếu này đều\n",
    "ở những phần thực nghiệm input/output khác.\n",
    "'''\n",
    "missing_file_train = ['201_V1.csv', '102_V2.csv', '124_V4.csv', '112_V1.csv', '203_V1.csv', '116_V1.csv', '108_V1.csv', '207_V1.csv', '111_V1.csv', '200_V1.csv', '207_MLII.csv', '210_V1.csv', '202_V1.csv', '113_V1.csv', '214_V1.csv', '121_V1.csv', '109_V1.csv', '105_V1.csv', '107_V1.csv', '115_V1.csv', '208_V1.csv']\n",
    "missing_file_test = ['213_V1.csv', '231_V1.csv', '228_V1.csv', '222_V1.csv', '232_V1.csv']"
   ]
  },
  {
   "cell_type": "code",
   "execution_count": 3,
   "metadata": {},
   "outputs": [],
   "source": [
    "class Dataset:\n",
    "    def __init__(self, data, label):\n",
    "        self.data = data\n",
    "        self.label = label\n",
    "\n",
    "    def __len__(self):\n",
    "        return len(self.data)\n",
    "\n",
    "    def __getitem__(self, i):\n",
    "        # read data\n",
    "        X = self.data[i]\n",
    "        y = np.concatenate(self.label[i])\n",
    "        return X, y\n",
    "\n",
    "class Dataloader(tf.keras.utils.Sequence):\n",
    "    def __init__(self, dataset, batch_size,size):\n",
    "        self.dataset = dataset\n",
    "        self.batch_size = batch_size\n",
    "        self.size= size\n",
    "\n",
    "    def __getitem__(self, i):\n",
    "        # collect batch data\n",
    "        start = i * self.batch_size\n",
    "        stop = (i + 1) * self.batch_size\n",
    "        data = []\n",
    "        for j in range(start, stop):\n",
    "            data.append(self.dataset[j])\n",
    "\n",
    "        batch = [np.stack(samples, axis=0) for samples in zip(*data)]\n",
    "        return tuple(batch)\n",
    "\n",
    "    def __len__(self):\n",
    "        return self.size //self.batch_size"
   ]
  },
  {
   "cell_type": "markdown",
   "metadata": {},
   "source": [
    "# Training Regression"
   ]
  },
  {
   "cell_type": "markdown",
   "metadata": {},
   "source": [
    "## Get data"
   ]
  },
  {
   "cell_type": "code",
   "execution_count": 4,
   "metadata": {},
   "outputs": [],
   "source": [
    "def get_data(istrainset):    \n",
    "    missing_file = []\n",
    "    total_sample = 0\n",
    "    directory = f\"{data_path}{data_set[istrainset]}/\"\n",
    "    X, y = [], []\n",
    "    for filename in os.listdir(directory):\n",
    "        if (filename not in (missing_file_train)) and (filename not in (missing_file_test)) and (filename != \".DS_Store\"):\n",
    "            f = os.path.join(directory, filename)\n",
    "            if os.path.isfile(f):\n",
    "                df = pd.read_csv(f, header=None)\n",
    "                data=df.drop(columns=187)\n",
    "                data=data.values\n",
    "                # Số lượng lặp qua dữ liệu\n",
    "                num_samples = len(data) - window_input - window_out \n",
    "\n",
    "                if(num_samples>0):\n",
    "                    total_sample = total_sample + num_samples\n",
    "                    for i in range(num_samples):\n",
    "                        X_window = data[i:i+window_input]\n",
    "                        y_window = data[i+window_input+window_out:i+window_input+window_out+1]\n",
    "\n",
    "\n",
    "                        X.append(X_window)\n",
    "                        y.append(y_window)\n",
    "                else:\n",
    "                    missing_file.append(filename)\n",
    "    print(\"------🍒------\")\n",
    "    print(f\"Num of file in {data_set[istrainset]} set can not use due to its missing of length: {len(missing_file)}\")\n",
    "    print(f\"Number of sample: {len(y)}/{len(X)}/{total_sample}\")\n",
    "    print(f\"Missing files: {missing_file}\")\n",
    "    return X,y"
   ]
  },
  {
   "cell_type": "code",
   "execution_count": 5,
   "metadata": {},
   "outputs": [
    {
     "name": "stdout",
     "output_type": "stream",
     "text": [
      "------🍒------\n",
      "Num of file in train set can not use due to its missing of length: 0\n",
      "Number of sample: 69069/69069/69069\n",
      "Missing files: []\n",
      "------🍒------\n",
      "Num of file in test set can not use due to its missing of length: 0\n",
      "Number of sample: 19797/19797/19797\n",
      "Missing files: []\n"
     ]
    }
   ],
   "source": [
    "X_train, y_train = get_data(1)\n",
    "X_test, y_test = get_data(0)"
   ]
  },
  {
   "cell_type": "code",
   "execution_count": 6,
   "metadata": {},
   "outputs": [],
   "source": [
    "train_dataset = Dataset(X_train, y_train)\n",
    "test_dataset = Dataset(X_test, y_test)"
   ]
  },
  {
   "cell_type": "code",
   "execution_count": 7,
   "metadata": {},
   "outputs": [],
   "source": [
    "train_loader = Dataloader(train_dataset, 16,len(train_dataset))\n",
    "test_loader = Dataloader(test_dataset,16,len(test_dataset))"
   ]
  },
  {
   "cell_type": "code",
   "execution_count": 8,
   "metadata": {},
   "outputs": [
    {
     "name": "stdout",
     "output_type": "stream",
     "text": [
      "(16, 400, 187)\n",
      "(16, 187)\n"
     ]
    }
   ],
   "source": [
    "print(train_loader[0][0].shape)\n",
    "print(train_loader[0][1].shape)"
   ]
  },
  {
   "cell_type": "markdown",
   "metadata": {},
   "source": [
    "## Build Model"
   ]
  },
  {
   "cell_type": "code",
   "execution_count": 17,
   "metadata": {},
   "outputs": [],
   "source": [
    "def build_model_reg(model_name,epochs):\n",
    "    # Tạo một mô hình LSTM\n",
    "    if model_name == \"LSTM\":\n",
    "        model = Sequential()\n",
    "        model.add(LSTM(64,activation='relu' ,input_shape=(window_input, 187)))  # Đặt input_shape phù hợp với kích thước của mảng X_train\n",
    "        model.add(Dense(187))# Đặt lớp Dense phù hợp với kích thước của mảng y_train\n",
    "\n",
    "        # Compile model\n",
    "        learning_rate = 0.01\n",
    "        adam = tf.keras.optimizers.legacy.Adam(learning_rate=learning_rate)    \n",
    "        model.compile(loss='mean_squared_error',optimizer=adam, metrics=['accuracy'])\n",
    "    return model"
   ]
  },
  {
   "cell_type": "markdown",
   "metadata": {},
   "source": [
    "## Train Model"
   ]
  },
  {
   "cell_type": "code",
   "execution_count": 18,
   "metadata": {},
   "outputs": [
    {
     "name": "stdout",
     "output_type": "stream",
     "text": [
      "Epoch 1/2\n",
      "4316/4316 [==============================] - 389s 90ms/step - loss: 0.0349 - accuracy: 0.1057 - val_loss: 0.0420 - val_accuracy: 0.0858\n",
      "Epoch 2/2\n",
      "4316/4316 [==============================] - 360s 83ms/step - loss: 0.0400 - accuracy: 0.1088 - val_loss: 0.0412 - val_accuracy: 0.0858\n",
      "Saved model to disk\n"
     ]
    },
    {
     "name": "stderr",
     "output_type": "stream",
     "text": [
      "/Users/trinhtruc/Library/Python/3.9/lib/python/site-packages/keras/src/engine/training.py:3103: UserWarning: You are saving your model as an HDF5 file via `model.save()`. This file format is considered legacy. We recommend using instead the native Keras format, e.g. `model.save('my_model.keras')`.\n",
      "  saving_api.save_model(\n"
     ]
    }
   ],
   "source": [
    "model_name = model_name_reg_phase\n",
    "epochs = 2\n",
    "model = build_model_reg(model_name, epochs = epochs)\n",
    "model.fit(train_loader, validation_data=test_loader, verbose=1, epochs=epochs)\n",
    "model.save(f\"trained/{model_name}_Phase1_PastECG_FutureECG_FutureCls_{minute_input}-mininput_{minute_output}-minoutput.h5\")\n",
    "print(\"Saved model to disk\")"
   ]
  },
  {
   "cell_type": "code",
   "execution_count": 19,
   "metadata": {},
   "outputs": [],
   "source": [
    "# model = tf.keras.models.load_model(f\"trained/PastECG_FutureECG_FutureCls_{minute_input}-mininput_{minute_output}-minoutput.h5\")\n",
    "# # Dự đoán trên tập kiểm tra\n",
    "# y_pred = model.predict(test_loader)\n",
    "# df = pd.DataFrame({\n",
    "#    'y_true': test_loader[0][1][0],\n",
    "#    'y_pred': y_pred[0]\n",
    "#    })\n",
    "# lines = df.plot.line()"
   ]
  },
  {
   "cell_type": "markdown",
   "metadata": {},
   "source": [
    "# Training Classification"
   ]
  },
  {
   "cell_type": "markdown",
   "metadata": {},
   "source": [
    "## Get data"
   ]
  },
  {
   "cell_type": "code",
   "execution_count": 9,
   "metadata": {},
   "outputs": [],
   "source": [
    "def get_data_class(istrainset):\n",
    "    directory = f\"{data_path}{data_set[istrainset]}/\"\n",
    "    if istrainset == 1:\n",
    "        X, y = [], []\n",
    "        for filename in os.listdir(directory):\n",
    "            if (filename not in (missing_file_train)) and (filename not in (missing_file_test)) and (filename != \".DS_Store\"):\n",
    "                f = os.path.join(directory, filename)\n",
    "                if os.path.isfile(f):\n",
    "                    df = pd.read_csv(f, header=None)\n",
    "                    data=df.values\n",
    "\n",
    "                    X_window = data[:,:-1]\n",
    "                    y_window = data[:,-1]\n",
    "                    X.append(X_window)\n",
    "                    y.append(y_window)\n",
    "        print(f\"Number of sample: {len(y)}/{len(X)}\")\n",
    "        return X,y\n",
    "    else:\n",
    "        y = []\n",
    "        for filename in os.listdir(directory):\n",
    "            if (filename not in (missing_file_train)) and (filename not in (missing_file_test)) and (filename != \".DS_Store\"):\n",
    "                f = os.path.join(directory, filename)\n",
    "                if os.path.isfile(f):\n",
    "                    df = pd.read_csv(f, header=None)\n",
    "                    data=df.values\n",
    "\n",
    "                    y_window = data[window_input+window_out:,-1]\n",
    "                    y.append(y_window)\n",
    "        print(f\"Number of sample: {len(y)}\")\n",
    "        return y"
   ]
  },
  {
   "cell_type": "code",
   "execution_count": 10,
   "metadata": {},
   "outputs": [
    {
     "name": "stdout",
     "output_type": "stream",
     "text": [
      "Number of sample: 55/55\n",
      "1237/1237 [==============================] - 47s 38ms/step\n",
      "Number of sample: 15\n"
     ]
    }
   ],
   "source": [
    "# Mô hình phân lớp vẫn phải được huấn luyện trên tập train\n",
    "X_class_train, y_class_train = get_data_class(1)\n",
    "X_class_train= np.concatenate(X_class_train, axis=0)\n",
    "y_class_train= np.concatenate(y_class_train, axis=0)\n",
    "y_class_train=y_class_train.astype(int)\n",
    "\n",
    "#Mô hình phân lớp dự đoán trên chính giá trị được pred từ mô hình hồi qui ở pha trước\n",
    "model = tf.keras.models.load_model(f\"trained/{model_name_reg_phase}_Phase1_PastECG_FutureECG_FutureCls_{minute_input}-mininput_{minute_output}-minoutput.h5\")\n",
    "# Dự đoán trên tập kiểm tra\n",
    "y_pred = model.predict(test_loader)\n",
    "X_class_test = y_pred\n",
    "y_class_test = get_data_class(0)\n",
    "y_class_test=np.concatenate(y_class_test)\n",
    "y_class_test=y_class_test.astype(int)"
   ]
  },
  {
   "cell_type": "markdown",
   "metadata": {},
   "source": [
    "## Build Model"
   ]
  },
  {
   "cell_type": "code",
   "execution_count": 12,
   "metadata": {},
   "outputs": [],
   "source": [
    "def build_model_cls(model_name,epochs):\n",
    "    # Tạo một mô hình LSTM\n",
    "    if model_name == \"LSTM\":\n",
    "        input_shape = (1, length_ecg)\n",
    "        model= Sequential()\n",
    "        model.add(LSTM(64, input_shape=input_shape, activation='relu', return_sequences=True))\n",
    "        model.add(LSTM(64, activation='relu', return_sequences=True))\n",
    "        model.add(LSTM(64, activation='relu', return_sequences=True))\n",
    "        model.add(LSTM(64, activation='relu'))\n",
    "        model.add(Dense(5, activation='softmax'))\n",
    "\n",
    "        # Compile model\n",
    "        learning_rate = 0.01\n",
    "        adam = tf.keras.optimizers.legacy.Adam(learning_rate=learning_rate)        \n",
    "        model.compile(loss='sparse_categorical_crossentropy', optimizer=adam, metrics=['accuracy'])\n",
    "    return model"
   ]
  },
  {
   "cell_type": "code",
   "execution_count": 90,
   "metadata": {},
   "outputs": [
    {
     "name": "stdout",
     "output_type": "stream",
     "text": [
      "Epoch 1/10\n",
      "3534/3534 [==============================] - 8s 2ms/step - loss: 0.1749 - accuracy: 0.9567\n",
      "Epoch 2/10\n",
      "3534/3534 [==============================] - 6s 2ms/step - loss: 0.1318 - accuracy: 0.9670\n",
      "Epoch 3/10\n",
      "3534/3534 [==============================] - 6s 2ms/step - loss: 0.1258 - accuracy: 0.9695\n",
      "Epoch 4/10\n",
      "3534/3534 [==============================] - 6s 2ms/step - loss: 0.1129 - accuracy: 0.9720\n",
      "Epoch 5/10\n",
      "3534/3534 [==============================] - 6s 2ms/step - loss: 0.1184 - accuracy: 0.9707\n",
      "Epoch 6/10\n",
      "3534/3534 [==============================] - 6s 2ms/step - loss: 0.1210 - accuracy: 0.9721\n",
      "Epoch 7/10\n",
      "3534/3534 [==============================] - 6s 2ms/step - loss: 0.1405 - accuracy: 0.9657\n",
      "Epoch 8/10\n",
      "3534/3534 [==============================] - 6s 2ms/step - loss: 0.1392 - accuracy: 0.9671\n",
      "Epoch 9/10\n",
      "3534/3534 [==============================] - 6s 2ms/step - loss: 0.1294 - accuracy: 0.9692\n",
      "Epoch 10/10\n",
      "3534/3534 [==============================] - 6s 2ms/step - loss: 0.1256 - accuracy: 0.9693\n",
      "Saved model to disk\n"
     ]
    }
   ],
   "source": [
    "model_name = model_name_reg_phase\n",
    "epochs = 10\n",
    "model = build_model_cls(model_name_cls_phase,epochs)\n",
    "model.fit(X_class_train.reshape(X_class_train.shape[0], 1, X_class_train.shape[1]), y_class_train, epochs=epochs, batch_size=32)\n",
    "model.save(f\"trained/{model_name}_Phase2_PastECG_FutureECG_FutureCls_{minute_input}-mininput_{minute_output}-minoutput.h5\")\n",
    "print(\"Saved model to disk\")"
   ]
  },
  {
   "cell_type": "markdown",
   "metadata": {},
   "source": [
    "# Script"
   ]
  },
  {
   "cell_type": "code",
   "execution_count": null,
   "metadata": {},
   "outputs": [],
   "source": [
    "input_shape = (window_input, length_ecg)\n",
    "model= Sequential()\n",
    "model.add(LSTM(64, input_shape=input_shape, activation='relu', return_sequences=True))\n",
    "model.add(Dropout(0.2))\n",
    "model.add(LSTM(32, activation='relu'))\n",
    "model.add(Dropout(0.2))\n",
    "model.add(Dense(5, activation='softmax'))\n",
    "\n",
    "model.summary()\n",
    "for layers in (model.layers)[:4]:\n",
    "    print(layers)\n",
    "    layers.trainable = False\n",
    "model.summary()\n",
    "model.layers"
   ]
  }
 ],
 "metadata": {
  "kernelspec": {
   "display_name": "Python 3",
   "language": "python",
   "name": "python3"
  },
  "language_info": {
   "codemirror_mode": {
    "name": "ipython",
    "version": 3
   },
   "file_extension": ".py",
   "mimetype": "text/x-python",
   "name": "python",
   "nbconvert_exporter": "python",
   "pygments_lexer": "ipython3",
   "version": "3.9.6"
  }
 },
 "nbformat": 4,
 "nbformat_minor": 2
}
